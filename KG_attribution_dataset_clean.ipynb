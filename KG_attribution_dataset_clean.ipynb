{
 "cells": [
  {
   "cell_type": "code",
   "execution_count": 1,
   "metadata": {},
   "outputs": [
    {
     "name": "stderr",
     "output_type": "stream",
     "text": [
      "/home/azureuser/.local/lib/python3.8/site-packages/tqdm/auto.py:21: TqdmWarning: IProgress not found. Please update jupyter and ipywidgets. See https://ipywidgets.readthedocs.io/en/stable/user_install.html\n",
      "  from .autonotebook import tqdm as notebook_tqdm\n"
     ]
    },
    {
     "ename": "ModuleNotFoundError",
     "evalue": "No module named 'SPARQLWrapper'",
     "output_type": "error",
     "traceback": [
      "\u001b[0;31m---------------------------------------------------------------------------\u001b[0m",
      "\u001b[0;31mModuleNotFoundError\u001b[0m                       Traceback (most recent call last)",
      "Cell \u001b[0;32mIn[1], line 4\u001b[0m\n\u001b[1;32m      2\u001b[0m \u001b[38;5;28;01mimport\u001b[39;00m \u001b[38;5;21;01mpandas\u001b[39;00m \u001b[38;5;28;01mas\u001b[39;00m \u001b[38;5;21;01mpd\u001b[39;00m\n\u001b[1;32m      3\u001b[0m \u001b[38;5;28;01mimport\u001b[39;00m \u001b[38;5;21;01mjson\u001b[39;00m\n\u001b[0;32m----> 4\u001b[0m \u001b[38;5;28;01mfrom\u001b[39;00m \u001b[38;5;21;01mutils\u001b[39;00m\u001b[38;5;21;01m.\u001b[39;00m\u001b[38;5;21;01mwiki_helpers\u001b[39;00m \u001b[38;5;28;01mimport\u001b[39;00m getLabelsForTripletNums, getLabelsForTripletNums_fromDictMap, get_label_for_qid_fromDictMap\n\u001b[1;32m      5\u001b[0m \u001b[38;5;28;01mfrom\u001b[39;00m \u001b[38;5;21;01mutils\u001b[39;00m\u001b[38;5;21;01m.\u001b[39;00m\u001b[38;5;21;01mwiki_helpers\u001b[39;00m \u001b[38;5;28;01mimport\u001b[39;00m format_relational_paths\n",
      "File \u001b[0;32m/mnt/batch/tasks/shared/LS_root/mounts/clusters/preetams-t4/code/Users/preetams/KG_attribute/KnowledgeGraphAttribution/utils/wiki_helpers.py:2\u001b[0m\n\u001b[1;32m      1\u001b[0m \u001b[38;5;28;01mimport\u001b[39;00m \u001b[38;5;21;01mspacy\u001b[39;00m\n\u001b[0;32m----> 2\u001b[0m \u001b[38;5;28;01mfrom\u001b[39;00m \u001b[38;5;21;01mSPARQLWrapper\u001b[39;00m \u001b[38;5;28;01mimport\u001b[39;00m SPARQLWrapper, JSON\n\u001b[1;32m      3\u001b[0m \u001b[38;5;28;01mimport\u001b[39;00m \u001b[38;5;21;01mpandas\u001b[39;00m \u001b[38;5;28;01mas\u001b[39;00m \u001b[38;5;21;01mpd\u001b[39;00m\n\u001b[1;32m      4\u001b[0m \u001b[38;5;28;01mfrom\u001b[39;00m \u001b[38;5;21;01mitertools\u001b[39;00m \u001b[38;5;28;01mimport\u001b[39;00m combinations\n",
      "\u001b[0;31mModuleNotFoundError\u001b[0m: No module named 'SPARQLWrapper'"
     ]
    }
   ],
   "source": [
    "from tqdm import tqdm\n",
    "import pandas as pd\n",
    "import json\n",
    "from utils.wiki_helpers import getLabelsForTripletNums, getLabelsForTripletNums_fromDictMap, get_label_for_qid_fromDictMap\n",
    "from utils.wiki_helpers import format_relational_paths"
   ]
  },
  {
   "cell_type": "code",
   "execution_count": 11,
   "metadata": {},
   "outputs": [],
   "source": [
    "split = 'test'\n",
    "# read json file to dict\n",
    "file_name = f'outputs/path_dicts/constructed_paths_dict_{split}_wikiqa.json'\n",
    "with open(file_name, 'r') as f:\n",
    "    paths_dict = json.load(f)"
   ]
  },
  {
   "cell_type": "code",
   "execution_count": 6,
   "metadata": {},
   "outputs": [],
   "source": [
    "df = pd.read_pickle(f'outputs/wikiqa_{split}_answers_KGmid_coref.pkl')"
   ]
  },
  {
   "cell_type": "code",
   "execution_count": 7,
   "metadata": {},
   "outputs": [
    {
     "data": {
      "text/html": [
       "<div>\n",
       "<style scoped>\n",
       "    .dataframe tbody tr th:only-of-type {\n",
       "        vertical-align: middle;\n",
       "    }\n",
       "\n",
       "    .dataframe tbody tr th {\n",
       "        vertical-align: top;\n",
       "    }\n",
       "\n",
       "    .dataframe thead th {\n",
       "        text-align: right;\n",
       "    }\n",
       "</style>\n",
       "<table border=\"1\" class=\"dataframe\">\n",
       "  <thead>\n",
       "    <tr style=\"text-align: right;\">\n",
       "      <th></th>\n",
       "      <th>ipSentence</th>\n",
       "      <th>ipSentence_coref</th>\n",
       "      <th>wikient</th>\n",
       "      <th>relevant_wikient</th>\n",
       "      <th>candidates</th>\n",
       "    </tr>\n",
       "  </thead>\n",
       "  <tbody>\n",
       "    <tr>\n",
       "      <th>0</th>\n",
       "      <td>Cross section of sclerenchyma fibers in plant ...</td>\n",
       "      <td>Cross section of sclerenchyma fibers in plant...</td>\n",
       "      <td>[[Cross section, 48997940, common sample prepa...</td>\n",
       "      <td>[[Cross section, 48997940, common sample prepa...</td>\n",
       "      <td>[(48997940, 161), (48997940, 756), (161, 756),...</td>\n",
       "    </tr>\n",
       "    <tr>\n",
       "      <th>1</th>\n",
       "      <td>Microscopic view of a histologic specimen of h...</td>\n",
       "      <td>Microscopic view of a histologic specimen of ...</td>\n",
       "      <td>[[view, 1329910, result set of a stored query ...</td>\n",
       "      <td>[[view, 1329910, result set of a stored query ...</td>\n",
       "      <td>[(1329910, 2075980), (1329910, 7886), (1329910...</td>\n",
       "    </tr>\n",
       "    <tr>\n",
       "      <th>2</th>\n",
       "      <td>In Biology , Tissue is a cellular organization...</td>\n",
       "      <td>In Biology , Tissue is a cellular organizatio...</td>\n",
       "      <td>[[biology, 420, study of life, Biology], [tiss...</td>\n",
       "      <td>[[biology, 420, study of life, Biology], [tiss...</td>\n",
       "      <td>[(420, 40397), (420, 207988), (40397, 207988),...</td>\n",
       "    </tr>\n",
       "    <tr>\n",
       "      <th>3</th>\n",
       "      <td>A tissue is an ensemble of similar cells from ...</td>\n",
       "      <td>A tissue is an ensemble of similar cells from...</td>\n",
       "      <td>[[tissue, 40397, cellular organizational level...</td>\n",
       "      <td>[[tissue, 40397, cellular organizational level...</td>\n",
       "      <td>[(40397, 2088357), (40397, 7376362), (40397, 1...</td>\n",
       "    </tr>\n",
       "    <tr>\n",
       "      <th>4</th>\n",
       "      <td>Organs are then formed by the functional group...</td>\n",
       "      <td>Organs are then formed by the functional grou...</td>\n",
       "      <td>[[Organ, 2029742, 1996 film by Kei Fujiwara, O...</td>\n",
       "      <td>[[group, 71468208, a number of people or thing...</td>\n",
       "      <td>[(71468208, 40397), (40397, 71468208)]</td>\n",
       "    </tr>\n",
       "    <tr>\n",
       "      <th>...</th>\n",
       "      <td>...</td>\n",
       "      <td>...</td>\n",
       "      <td>...</td>\n",
       "      <td>...</td>\n",
       "      <td>...</td>\n",
       "    </tr>\n",
       "    <tr>\n",
       "      <th>2728</th>\n",
       "      <td>Representative government came about in 1924 (...</td>\n",
       "      <td>Representative government came about in 1924 ...</td>\n",
       "      <td>[[Considerations on Representative Government,...</td>\n",
       "      <td>[[universal suffrage, 319891, Political concep...</td>\n",
       "      <td>[]</td>\n",
       "    </tr>\n",
       "    <tr>\n",
       "      <th>2729</th>\n",
       "      <td>From 1958 to 1962, the island was a member of ...</td>\n",
       "      <td>From 1958 to 1962, the island was a member of...</td>\n",
       "      <td>[[island, 23442, sub-continental land that is ...</td>\n",
       "      <td>[[island, 23442, sub-continental land that is ...</td>\n",
       "      <td>[(23442, 379825), (23442, 923623), (23442, 669...</td>\n",
       "    </tr>\n",
       "    <tr>\n",
       "      <th>2730</th>\n",
       "      <td>On 22 February 1979, Saint Lucia became an ind...</td>\n",
       "      <td>On 22 February 1979, Saint Lucia became an in...</td>\n",
       "      <td>[[February, 109, second month in the Julian an...</td>\n",
       "      <td>[[February, 109, second month in the Julian an...</td>\n",
       "      <td>[(109, 760), (109, 7275), (109, 597897), (109,...</td>\n",
       "    </tr>\n",
       "    <tr>\n",
       "      <th>2731</th>\n",
       "      <td>The island nation celebrates this every year w...</td>\n",
       "      <td>The island nation celebrates this every year ...</td>\n",
       "      <td>[[island nation, 112099, state whose primary t...</td>\n",
       "      <td>[[island nation, 112099, state whose primary t...</td>\n",
       "      <td>[(112099, 577), (112099, 1197685), (577, 11976...</td>\n",
       "    </tr>\n",
       "    <tr>\n",
       "      <th>2732</th>\n",
       "      <td>It is also a member of la Francophonie .</td>\n",
       "      <td>It is also a member of la Francophonie .</td>\n",
       "      <td>[[element, 379825, any one of the distinct obj...</td>\n",
       "      <td>[[Latin, 397, almost extinct Indo-European lan...</td>\n",
       "      <td>[(397, 134102), (134102, 397)]</td>\n",
       "    </tr>\n",
       "  </tbody>\n",
       "</table>\n",
       "<p>2733 rows × 5 columns</p>\n",
       "</div>"
      ],
      "text/plain": [
       "                                             ipSentence  \\\n",
       "0     Cross section of sclerenchyma fibers in plant ...   \n",
       "1     Microscopic view of a histologic specimen of h...   \n",
       "2     In Biology , Tissue is a cellular organization...   \n",
       "3     A tissue is an ensemble of similar cells from ...   \n",
       "4     Organs are then formed by the functional group...   \n",
       "...                                                 ...   \n",
       "2728  Representative government came about in 1924 (...   \n",
       "2729  From 1958 to 1962, the island was a member of ...   \n",
       "2730  On 22 February 1979, Saint Lucia became an ind...   \n",
       "2731  The island nation celebrates this every year w...   \n",
       "2732           It is also a member of la Francophonie .   \n",
       "\n",
       "                                       ipSentence_coref  \\\n",
       "0      Cross section of sclerenchyma fibers in plant...   \n",
       "1      Microscopic view of a histologic specimen of ...   \n",
       "2      In Biology , Tissue is a cellular organizatio...   \n",
       "3      A tissue is an ensemble of similar cells from...   \n",
       "4      Organs are then formed by the functional grou...   \n",
       "...                                                 ...   \n",
       "2728   Representative government came about in 1924 ...   \n",
       "2729   From 1958 to 1962, the island was a member of...   \n",
       "2730   On 22 February 1979, Saint Lucia became an in...   \n",
       "2731   The island nation celebrates this every year ...   \n",
       "2732           It is also a member of la Francophonie .   \n",
       "\n",
       "                                                wikient  \\\n",
       "0     [[Cross section, 48997940, common sample prepa...   \n",
       "1     [[view, 1329910, result set of a stored query ...   \n",
       "2     [[biology, 420, study of life, Biology], [tiss...   \n",
       "3     [[tissue, 40397, cellular organizational level...   \n",
       "4     [[Organ, 2029742, 1996 film by Kei Fujiwara, O...   \n",
       "...                                                 ...   \n",
       "2728  [[Considerations on Representative Government,...   \n",
       "2729  [[island, 23442, sub-continental land that is ...   \n",
       "2730  [[February, 109, second month in the Julian an...   \n",
       "2731  [[island nation, 112099, state whose primary t...   \n",
       "2732  [[element, 379825, any one of the distinct obj...   \n",
       "\n",
       "                                       relevant_wikient  \\\n",
       "0     [[Cross section, 48997940, common sample prepa...   \n",
       "1     [[view, 1329910, result set of a stored query ...   \n",
       "2     [[biology, 420, study of life, Biology], [tiss...   \n",
       "3     [[tissue, 40397, cellular organizational level...   \n",
       "4     [[group, 71468208, a number of people or thing...   \n",
       "...                                                 ...   \n",
       "2728  [[universal suffrage, 319891, Political concep...   \n",
       "2729  [[island, 23442, sub-continental land that is ...   \n",
       "2730  [[February, 109, second month in the Julian an...   \n",
       "2731  [[island nation, 112099, state whose primary t...   \n",
       "2732  [[Latin, 397, almost extinct Indo-European lan...   \n",
       "\n",
       "                                             candidates  \n",
       "0     [(48997940, 161), (48997940, 756), (161, 756),...  \n",
       "1     [(1329910, 2075980), (1329910, 7886), (1329910...  \n",
       "2     [(420, 40397), (420, 207988), (40397, 207988),...  \n",
       "3     [(40397, 2088357), (40397, 7376362), (40397, 1...  \n",
       "4                [(71468208, 40397), (40397, 71468208)]  \n",
       "...                                                 ...  \n",
       "2728                                                 []  \n",
       "2729  [(23442, 379825), (23442, 923623), (23442, 669...  \n",
       "2730  [(109, 760), (109, 7275), (109, 597897), (109,...  \n",
       "2731  [(112099, 577), (112099, 1197685), (577, 11976...  \n",
       "2732                     [(397, 134102), (134102, 397)]  \n",
       "\n",
       "[2733 rows x 5 columns]"
      ]
     },
     "execution_count": 7,
     "metadata": {},
     "output_type": "execute_result"
    },
    {
     "name": "stderr",
     "output_type": "stream",
     "text": [
      "Bad pipe message: %s [b'8bw{?\\x87\\\\[\\xd8g\\xc7\\xf9\\xbc#_8\\xd6']\n",
      "Bad pipe message: %s [b'\\xe3\\x04G\\xd0e\\xa6kw\\x85\\x94vg8\\x87\\xe4\\x07j\\xf1\\xa4\\x0b\\xb1\\x810\\xb6\\xa3\\xac\\xb4(O\\x00{\\xa2\\x00\\x08\\x13\\x02\\x13\\x03\\x13\\x01\\x00\\xff\\x01\\x00\\x00\\x8f\\x00\\x00\\x00\\x0e\\x00\\x0c\\x00\\x00\\t127.0.0.1\\x00\\x0b\\x00\\x04\\x03\\x00\\x01\\x02\\x00\\n\\x00\\x0c\\x00\\n\\x00\\x1d\\x00\\x17\\x00\\x1e\\x00\\x19\\x00\\x18\\x00#\\x00\\x00']\n",
      "Bad pipe message: %s [b'<lt\\xa3\\xe6\\x96\\xe1UB\\x95X\\xac1\\xda\\xb0\\xb4\\t\\x00\\x00\\x00|\\xc0,\\xc00\\x00\\xa3\\x00\\x9f\\xcc\\xa9\\xcc\\xa8\\xcc\\xaa\\xc0\\xaf\\xc0\\xad\\xc0\\xa3\\xc0\\x9f\\xc0]\\xc0a\\xc0W\\xc0S\\xc0+\\xc0/\\x00\\xa2\\x00']\n",
      "Bad pipe message: %s [b\"\\xae\\xc0\\xac\\xc0\\xa2\\xc0\\x9e\\xc0\\\\\\xc0`\\xc0V\\xc0R\\xc0$\\xc0(\\x00k\\x00j\\xc0#\\xc0'\\x00g\\x00@\\xc0\\n\\xc0\\x14\\x009\\x008\\xc0\\t\\xc0\\x13\\x003\\x002\\x00\\x9d\\xc0\\xa1\\xc0\\x9d\\xc0Q\\x00\\x9c\\xc0\\xa0\\xc0\\x9c\\xc0P\\x00=\\x00<\\x005\\x00/\\x00\\x9a\\x00\\x99\\xc0\\x07\\xc0\\x11\\x00\\x96\\x00\\x05\\x00\\xff\\x01\\x00\\x00j\\x00\\x00\\x00\\x0e\\x00\\x0c\\x00\\x00\\t127.0.0.1\\x00\\x0b\\x00\\x04\\x03\\x00\\x01\\x02\\x00\\n\\x00\\x0c\\x00\\n\\x00\\x1d\\x00\\x17\\x00\\x1e\\x00\\x19\\x00\\x18\\x00#\\x00\\x00\\x00\\x16\\x00\\x00\\x00\\x17\\x00\\x00\\x00\\r\\x000\\x00.\\x04\\x03\\x05\\x03\\x06\\x03\\x08\\x07\"]\n",
      "Bad pipe message: %s [b'\\x08\\t\\x08\\n\\x08\\x0b\\x08']\n",
      "Bad pipe message: %s [b'\\x05\\x08\\x06']\n",
      "Bad pipe message: %s [b'\\x05\\x01\\x06', b'', b'\\x03\\x03']\n",
      "Bad pipe message: %s [b'']\n",
      "Bad pipe message: %s [b'', b'\\x02']\n",
      "Bad pipe message: %s [b'\\x05\\x02\\x06']\n",
      "Bad pipe message: %s [b'?U\\xad\\xa0kY\\xe4?\\xd3\\xbeY\\xa5\\xa9\\xba\\r\\x90\\xbaJ\\x00\\x00\\xa2\\xc0\\x14\\xc0\\n\\x009\\x008\\x007\\x006\\x00\\x88\\x00\\x87\\x00\\x86\\x00\\x85\\xc0\\x19\\x00:\\x00\\x89\\xc0\\x0f\\xc0\\x05\\x005\\x00\\x84\\xc0\\x13\\xc0\\t\\x003\\x002\\x001\\x000\\x00\\x9a\\x00\\x99\\x00', b'\\x97\\x00E\\x00D\\x00C\\x00B\\xc0\\x18\\x004\\x00\\x9b\\x00F\\xc0\\x0e\\xc0\\x04\\x00/\\x00\\x96\\x00A\\x00\\x07\\xc0\\x11\\xc0\\x07\\xc0\\x16\\x00\\x18\\xc0\\x0c\\xc0\\x02\\x00\\x05\\x00\\x04\\xc0\\x12\\xc0\\x08\\x00\\x16\\x00\\x13\\x00\\x10\\x00\\r\\xc0\\x17\\x00\\x1b\\xc0\\r\\xc0\\x03\\x00\\n\\x00\\x15\\x00\\x12\\x00\\x0f\\x00\\x0c\\x00\\x1a\\x00\\t\\x00\\x14\\x00\\x11\\x00\\x19\\x00\\x08\\x00\\x06\\x00\\x17\\x00\\x03\\xc0\\x10\\xc0\\x06\\xc0\\x15\\xc0\\x0b\\xc0\\x01\\x00\\x02\\x00\\x01\\x00\\xff\\x02\\x01\\x00\\x00C\\x00\\x00\\x00\\x0e\\x00\\x0c\\x00\\x00\\t127.0.0.1\\x00\\x0b\\x00\\x04\\x03\\x00\\x01\\x02\\x00\\n\\x00\\x1c\\x00\\x1a\\x00\\x17\\x00\\x19\\x00']\n",
      "Bad pipe message: %s [b'\\x1b\\x00\\x18\\x00\\x1a\\x00\\x16\\x00\\x0e\\x00\\r\\x00\\x0b\\x00\\x0c\\x00\\t\\x00\\n\\x00#\\x00\\x00\\x00\\x0f\\x00\\x01']\n",
      "Bad pipe message: %s [b'', b'\\x00\\x02']\n",
      "Bad pipe message: %s [b'\\xda\\r\\x0fMt\\xb7\\x15-\\xd9\\xbb\\xf0\\xe1\\x19\\xd2.\\xd4C\\xb2\\x00\\x00>\\xc0\\x14\\xc0\\n\\x009\\x008\\x007\\x006\\xc0\\x0f\\xc0\\x05\\x005\\xc0\\x13\\xc0\\t\\x003\\x002\\x001\\x000\\xc0\\x0e\\xc0\\x04\\x00/\\x00\\x9a\\x00\\x99\\x00\\x98\\x00\\x97']\n",
      "Bad pipe message: %s [b'\\rPh\\x1b\\x14on\\xea\\xcc|\\x8dq0o\\x96\\xef\\x17\\x16\\x00\\x00\\xa2\\xc0\\x14\\xc0\\n\\x009\\x008\\x007\\x006\\x00\\x88\\x00\\x87\\x00\\x86\\x00\\x85\\xc0\\x19\\x00:']\n",
      "Bad pipe message: %s [b'h_\\xc1D\\xa9\\xb5\\xe6\\xe6\\xf9\\x96\\x8b\\xd8+L\\xd8\\x0f0B\\x00\\x00>\\xc0\\x14\\xc0\\n\\x009\\x008\\x007\\x006\\xc0\\x0f\\xc0\\x05\\x005\\xc0\\x13\\xc0\\t\\x003\\x002\\x001\\x000\\xc0\\x0e\\xc0\\x04\\x00/\\x00\\x9a']\n",
      "Bad pipe message: %s [b'?M\\x1e|\\xacN\\x08\\xb5U\\x88n;\\x86J\\xe5\\x92\\x02\\xee\\x00\\x00\\xa2\\xc0\\x14\\xc0\\n\\x009\\x008\\x007\\x006\\x00\\x88\\x00\\x87\\x00\\x86\\x00\\x85\\xc0\\x19\\x00:\\x00\\x89\\xc0\\x0f\\xc0\\x05\\x005\\x00\\x84\\xc0\\x13\\xc0\\t\\x003\\x002\\x001']\n",
      "Bad pipe message: %s [b\"r\\xc3n\\xb7a\\xecTS\\x9e:\\x1ai\\x10\\xb7,g\\x01\\xd3\\x00\\x00\\x86\\xc00\\xc0,\\xc0(\\xc0$\\xc0\\x14\\xc0\\n\\x00\\xa5\\x00\\xa3\\x00\\xa1\\x00\\x9f\\x00k\\x00j\\x00i\\x00h\\x009\\x008\\x007\\x006\\xc02\\xc0.\\xc0*\\xc0&\\xc0\\x0f\\xc0\\x05\\x00\\x9d\\x00=\\x005\\xc0/\\xc0+\\xc0'\\xc0#\\xc0\\x13\\xc0\\t\\x00\\xa4\\x00\\xa2\\x00\\xa0\\x00\\x9e\\x00g\\x00@\\x00?\\x00>\\x003\\x002\\x001\\x000\\xc01\\xc0-\\xc0)\\xc0\"]\n",
      "Bad pipe message: %s [b'\\x0e\\xc0\\x04\\x00\\x9c\\x00<\\x00/\\x00\\x9a\\x00\\x99\\x00\\x98\\x00\\x97\\x00\\x96\\x00\\x07\\xc0\\x11\\xc0\\x07\\xc0\\x0c\\xc0\\x02\\x00\\x05\\x00\\x04\\x00\\xff\\x02']\n",
      "Bad pipe message: %s [b'']\n",
      "Bad pipe message: %s [b\"\\xb9\\xa1\\xec\\x15\\x85\\xeb\\xfafj\\xfa\\x01&\\x13f\\xd0\\x0f\\x87f\\x00\\x00\\xf4\\xc00\\xc0,\\xc0(\\xc0$\\xc0\\x14\\xc0\\n\\x00\\xa5\\x00\\xa3\\x00\\xa1\\x00\\x9f\\x00k\\x00j\\x00i\\x00h\\x009\\x008\\x007\\x006\\x00\\x88\\x00\\x87\\x00\\x86\\x00\\x85\\xc0\\x19\\x00\\xa7\\x00m\\x00:\\x00\\x89\\xc02\\xc0.\\xc0*\\xc0&\\xc0\\x0f\\xc0\\x05\\x00\\x9d\\x00=\\x005\\x00\\x84\\xc0/\\xc0+\\xc0'\\xc0#\\xc0\\x13\\xc0\\t\\x00\\xa4\\x00\\xa2\\x00\\xa0\\x00\\x9e\\x00g\\x00@\\x00?\\x00>\\x003\\x002\\x001\\x000\\x00\\x9a\\x00\\x99\\x00\\x98\\x00\\x97\\x00E\\x00D\\x00C\\x00B\\xc0\\x18\\x00\\xa6\\x00l\\x004\\x00\\x9b\\x00F\\xc01\\xc0-\\xc0)\\xc0%\\xc0\\x0e\\xc0\\x04\\x00\\x9c\\x00<\\x00/\\x00\\x96\\x00A\\x00\\x07\\xc0\\x11\\xc0\\x07\\xc0\\x16\"]\n"
     ]
    }
   ],
   "source": [
    "df"
   ]
  },
  {
   "cell_type": "code",
   "execution_count": 9,
   "metadata": {},
   "outputs": [],
   "source": [
    "def convert_structure(nested_list):\n",
    "    converted_list = []\n",
    "    for sublist in nested_list:\n",
    "        converted_sublist = []\n",
    "        for triplet in sublist:\n",
    "            # Directly convert each triplet in the sublist\n",
    "            tripletLabel = getLabelsForTripletNums_fromDictMap(triplet)\n",
    "            if tripletLabel == None:\n",
    "                print(\"None in triplet\", triplet)\n",
    "                continue\n",
    "            converted_sublist.append(tripletLabel)\n",
    "        if len(converted_sublist) > 0:\n",
    "            converted_list.append(converted_sublist)\n",
    "    return converted_list\n"
   ]
  },
  {
   "cell_type": "code",
   "execution_count": 10,
   "metadata": {},
   "outputs": [],
   "source": [
    "def process_tuples_for_dupes(tuples_list):\n",
    "    # Remove duplicates by converting the list into a set\n",
    "    unique_tuples = set(tuples_list)\n",
    "    \n",
    "    # Remove tuples where both elements are the same\n",
    "    filtered_tuples = [t for t in unique_tuples if t[0] != t[1]]\n",
    "    \n",
    "    return filtered_tuples"
   ]
  },
  {
   "cell_type": "code",
   "execution_count": 11,
   "metadata": {},
   "outputs": [],
   "source": [
    "candidates = df['candidates'].tolist()"
   ]
  },
  {
   "cell_type": "code",
   "execution_count": 12,
   "metadata": {},
   "outputs": [
    {
     "name": "stderr",
     "output_type": "stream",
     "text": [
      "100%|████████████████████████████████████████████████████████████████████████████████████████████████████████████████████████████████████████████████████████████████████████████████████████████████████████████████████████████████████████████████████████████████████████████████████████████████████████████████████████████████████████████████████████████████████████████████████████████████████████████████████████████████████████████████████████████████████████████████████████████████████████████████████████████████████████████████████████████████████████████████████████████████████████████████████████████████████████████████████████████████████████████████████████████████████████████████████████████████████████████████████████████████████████████████████████████████████████████████████████████████████████████████████████████████████████████████████████████████████████████████████████████████████████████████████████████████████████████████████████████| 6165/6165 [00:01<00:00, 5363.37it/s]\n"
     ]
    }
   ],
   "source": [
    "paths_obtained_db = []\n",
    "paths_obtained_db_labels = []\n",
    "end_nodes_db_labels = []\n",
    "node_path_desc_db = []\n",
    "node_path_dict_db = []\n",
    "for i in tqdm(range(len(candidates))): #len(candidates)\n",
    "    paths_obtained = []\n",
    "    paths_obtained_labels = []\n",
    "    end_nodes_labels = []\n",
    "    node_path_desc = []\n",
    "    node_path_diclist = []\n",
    "\n",
    "    potential_tuples = candidates[i]\n",
    "    potential_tuples = process_tuples_for_dupes(potential_tuples)\n",
    "    for j in range(len(potential_tuples)):\n",
    "        tuple = potential_tuples[j]\n",
    "        key = f'{tuple[0]}_{tuple[1]}'\n",
    "        if key in paths_dict:\n",
    "            paths = paths_dict[key]\n",
    "            if len(paths) >20:\n",
    "                paths = paths[:20]\n",
    "            # print(f'Length of paths for {key}: {len(paths)}')\n",
    "            paths_obtained.append(paths)\n",
    "            # print(paths_obtained)\n",
    "            paths_labels = convert_structure(paths)\n",
    "            paths_obtained_labels.append(paths_labels)\n",
    "            node1_label = get_label_for_qid_fromDictMap(tuple[0])\n",
    "            node2_label = get_label_for_qid_fromDictMap(tuple[1])\n",
    "            end_nodes_labels.append([node1_label, node2_label])\n",
    "\n",
    "\n",
    "            if len(paths_labels) > 0:\n",
    "                formatted_paths, relational_paths_dict = format_relational_paths(paths_labels)\n",
    "                #node_path_desc = []\n",
    "                desc = f'from entity *{node1_label}* to entity *{node2_label}*: \\n {formatted_paths}'\n",
    "                node_path_desc.append(desc)\n",
    "                node_path_diclist.append(relational_paths_dict)\n",
    "        else:\n",
    "            continue\n",
    "    paths_obtained_db.append(paths_obtained)\n",
    "    paths_obtained_db_labels.append(paths_obtained_labels)\n",
    "    end_nodes_db_labels.append(end_nodes_labels)\n",
    "    node_path_desc_db.append(node_path_desc)\n",
    "    node_path_dict_db.append(node_path_diclist)"
   ]
  },
  {
   "cell_type": "code",
   "execution_count": 13,
   "metadata": {},
   "outputs": [],
   "source": [
    "df['paths_obtained'] = paths_obtained_db\n",
    "df['paths_obtained_labels'] = paths_obtained_db_labels\n",
    "df['end_nodes_labels'] = end_nodes_db_labels\n",
    "df['node_path_desc'] = node_path_desc_db\n",
    "df['node_path_dict'] = node_path_dict_db"
   ]
  },
  {
   "cell_type": "code",
   "execution_count": 10,
   "metadata": {},
   "outputs": [
    {
     "data": {
      "text/html": [
       "<div>\n",
       "<style scoped>\n",
       "    .dataframe tbody tr th:only-of-type {\n",
       "        vertical-align: middle;\n",
       "    }\n",
       "\n",
       "    .dataframe tbody tr th {\n",
       "        vertical-align: top;\n",
       "    }\n",
       "\n",
       "    .dataframe thead th {\n",
       "        text-align: right;\n",
       "    }\n",
       "</style>\n",
       "<table border=\"1\" class=\"dataframe\">\n",
       "  <thead>\n",
       "    <tr style=\"text-align: right;\">\n",
       "      <th></th>\n",
       "      <th>ipSentence</th>\n",
       "      <th>ipSentence_coref</th>\n",
       "      <th>wikient</th>\n",
       "      <th>relevant_wikient</th>\n",
       "      <th>candidates</th>\n",
       "      <th>paths_obtained</th>\n",
       "      <th>paths_obtained_labels</th>\n",
       "      <th>end_nodes_labels</th>\n",
       "      <th>node_path_desc</th>\n",
       "      <th>node_path_dict</th>\n",
       "    </tr>\n",
       "  </thead>\n",
       "  <tbody>\n",
       "    <tr>\n",
       "      <th>0</th>\n",
       "      <td>African immigration to the United States refer...</td>\n",
       "      <td>African immigration to the United States refe...</td>\n",
       "      <td>[[immigration, 131288, movement of people into...</td>\n",
       "      <td>[[immigration, 131288, movement of people into...</td>\n",
       "      <td>[(131288, 30), (131288, 30), (131288, 825838),...</td>\n",
       "      <td>[[[[16741739, 793, 131288], [16741739, 27, 30]...</td>\n",
       "      <td>[[[('Lila Tretikov', 'significant event', 'imm...</td>\n",
       "      <td>[[immigration, United States of America], [Was...</td>\n",
       "      <td>[from entity *United States of America* to ent...</td>\n",
       "      <td>[{'Relational Path 1': [('Lila Tretikov', 'sig...</td>\n",
       "    </tr>\n",
       "    <tr>\n",
       "      <th>1</th>\n",
       "      <td>The term African in the scope of this article ...</td>\n",
       "      <td>The term African in the scope of this article...</td>\n",
       "      <td>[[terminal emulator, 1071233, program that emu...</td>\n",
       "      <td>[[oscilloscope, 174320, type of electronic tes...</td>\n",
       "      <td>[(174320, 103184), (174320, 7376362), (174320,...</td>\n",
       "      <td>[]</td>\n",
       "      <td>[]</td>\n",
       "      <td>[]</td>\n",
       "      <td>NA</td>\n",
       "      <td>[]</td>\n",
       "    </tr>\n",
       "    <tr>\n",
       "      <th>2</th>\n",
       "      <td>From the Immigration and Nationality Act of 19...</td>\n",
       "      <td>From the Immigration and Nationality Act of 1...</td>\n",
       "      <td>[[Agir, 43807777, French political party, Act]...</td>\n",
       "      <td>[[Agir, 43807777, French political party, Act]...</td>\n",
       "      <td>[(43807777, 30678402), (43807777, 231002), (43...</td>\n",
       "      <td>[[[[258571, 17, 30], [258571, 31, 41710], [417...</td>\n",
       "      <td>[[[('Erie people', 'country', 'United States o...</td>\n",
       "      <td>[[United States of America, nationality], [nat...</td>\n",
       "      <td>[from entity *United States of America* to ent...</td>\n",
       "      <td>[{'Relational Path 1': [('Erie people', 'count...</td>\n",
       "    </tr>\n",
       "    <tr>\n",
       "      <th>3</th>\n",
       "      <td>African immigrants in the United States come f...</td>\n",
       "      <td>African immigrants in the United States come ...</td>\n",
       "      <td>[[The Immigrant, 3341412, 2013 drama film by J...</td>\n",
       "      <td>[[United States of America, 30, federal republ...</td>\n",
       "      <td>[(30, 36784), (30, 15), (36784, 15), (36784, 3...</td>\n",
       "      <td>[]</td>\n",
       "      <td>[]</td>\n",
       "      <td>[]</td>\n",
       "      <td>NA</td>\n",
       "      <td>[]</td>\n",
       "    </tr>\n",
       "    <tr>\n",
       "      <th>4</th>\n",
       "      <td>They include people from different national, l...</td>\n",
       "      <td>HOW AFRICAN AMERICANS WERE IMMIGRATED include...</td>\n",
       "      <td>[[African Americans, 49085, racial or ethnic g...</td>\n",
       "      <td>[[African Americans, 49085, racial or ethnic g...</td>\n",
       "      <td>[(49085, 5), (49085, 4839635), (5, 4839635), (...</td>\n",
       "      <td>[]</td>\n",
       "      <td>[]</td>\n",
       "      <td>[]</td>\n",
       "      <td>NA</td>\n",
       "      <td>[]</td>\n",
       "    </tr>\n",
       "    <tr>\n",
       "      <th>...</th>\n",
       "      <td>...</td>\n",
       "      <td>...</td>\n",
       "      <td>...</td>\n",
       "      <td>...</td>\n",
       "      <td>...</td>\n",
       "      <td>...</td>\n",
       "      <td>...</td>\n",
       "      <td>...</td>\n",
       "      <td>...</td>\n",
       "      <td>...</td>\n",
       "    </tr>\n",
       "    <tr>\n",
       "      <th>6160</th>\n",
       "      <td>The word can also be used for other female equ...</td>\n",
       "      <td>The word can also be used for other female eq...</td>\n",
       "      <td>[[word, 625642, base memory unit handled by a ...</td>\n",
       "      <td>[[animal, 729, kingdom of multicellular eukary...</td>\n",
       "      <td>[(729, 1413723), (729, 32789), (729, 19707), (...</td>\n",
       "      <td>[]</td>\n",
       "      <td>[]</td>\n",
       "      <td>[]</td>\n",
       "      <td>NA</td>\n",
       "      <td>[]</td>\n",
       "    </tr>\n",
       "    <tr>\n",
       "      <th>6161</th>\n",
       "      <td>A broodmare is a mare used for breeding.</td>\n",
       "      <td>A broodmare is a mare used for breeding.</td>\n",
       "      <td>[[lunar mare, 180874, large, dark, basaltic pl...</td>\n",
       "      <td>[[lunar mare, 180874, large, dark, basaltic pl...</td>\n",
       "      <td>[]</td>\n",
       "      <td>[]</td>\n",
       "      <td>[]</td>\n",
       "      <td>[]</td>\n",
       "      <td>NA</td>\n",
       "      <td>[]</td>\n",
       "    </tr>\n",
       "    <tr>\n",
       "      <th>6162</th>\n",
       "      <td>A horse's female parent is known as its dam.</td>\n",
       "      <td>A horse's female parent is known as A horse's...</td>\n",
       "      <td>[[parent, 7566, father or mother, parent], [ho...</td>\n",
       "      <td>[[parent, 7566, father or mother, parent], [ho...</td>\n",
       "      <td>[(7566, 726), (7566, 12323), (7566, 726), (726...</td>\n",
       "      <td>[]</td>\n",
       "      <td>[]</td>\n",
       "      <td>[]</td>\n",
       "      <td>NA</td>\n",
       "      <td>[]</td>\n",
       "    </tr>\n",
       "    <tr>\n",
       "      <th>6163</th>\n",
       "      <td>An adult male horse is called a stallion , or,...</td>\n",
       "      <td>An adult male horse is called a stallion , or...</td>\n",
       "      <td>[[horse, 726, domesticated (work) animal, hors...</td>\n",
       "      <td>[[horse, 726, domesticated (work) animal, hors...</td>\n",
       "      <td>[(726, 80994), (726, 757833), (726, 506461), (...</td>\n",
       "      <td>[[[[4655483, 1050, 506461], [4655483, 31, 726]...</td>\n",
       "      <td>[[[(\"A Bit O'Gold\", 'medical condition', 'geld...</td>\n",
       "      <td>[[gelding, horse], [horse, stallion], [adult, ...</td>\n",
       "      <td>[from entity *horse* to entity *gelding*: \\n R...</td>\n",
       "      <td>[{'Relational Path 1': [(\"A Bit O'Gold\", 'medi...</td>\n",
       "    </tr>\n",
       "    <tr>\n",
       "      <th>6164</th>\n",
       "      <td>Occasionally the term \"horse\" is used in a res...</td>\n",
       "      <td>Occasionally the term \"horse\" is used in a re...</td>\n",
       "      <td>[[horse, 726, domesticated (work) animal, hors...</td>\n",
       "      <td>[[horse, 726, domesticated (work) animal, hors...</td>\n",
       "      <td>[(726, 726), (726, 726)]</td>\n",
       "      <td>[]</td>\n",
       "      <td>[]</td>\n",
       "      <td>[]</td>\n",
       "      <td>NA</td>\n",
       "      <td>[]</td>\n",
       "    </tr>\n",
       "  </tbody>\n",
       "</table>\n",
       "<p>6165 rows × 10 columns</p>\n",
       "</div>"
      ],
      "text/plain": [
       "                                             ipSentence  \\\n",
       "0     African immigration to the United States refer...   \n",
       "1     The term African in the scope of this article ...   \n",
       "2     From the Immigration and Nationality Act of 19...   \n",
       "3     African immigrants in the United States come f...   \n",
       "4     They include people from different national, l...   \n",
       "...                                                 ...   \n",
       "6160  The word can also be used for other female equ...   \n",
       "6161           A broodmare is a mare used for breeding.   \n",
       "6162       A horse's female parent is known as its dam.   \n",
       "6163  An adult male horse is called a stallion , or,...   \n",
       "6164  Occasionally the term \"horse\" is used in a res...   \n",
       "\n",
       "                                       ipSentence_coref  \\\n",
       "0      African immigration to the United States refe...   \n",
       "1      The term African in the scope of this article...   \n",
       "2      From the Immigration and Nationality Act of 1...   \n",
       "3      African immigrants in the United States come ...   \n",
       "4      HOW AFRICAN AMERICANS WERE IMMIGRATED include...   \n",
       "...                                                 ...   \n",
       "6160   The word can also be used for other female eq...   \n",
       "6161           A broodmare is a mare used for breeding.   \n",
       "6162   A horse's female parent is known as A horse's...   \n",
       "6163   An adult male horse is called a stallion , or...   \n",
       "6164   Occasionally the term \"horse\" is used in a re...   \n",
       "\n",
       "                                                wikient  \\\n",
       "0     [[immigration, 131288, movement of people into...   \n",
       "1     [[terminal emulator, 1071233, program that emu...   \n",
       "2     [[Agir, 43807777, French political party, Act]...   \n",
       "3     [[The Immigrant, 3341412, 2013 drama film by J...   \n",
       "4     [[African Americans, 49085, racial or ethnic g...   \n",
       "...                                                 ...   \n",
       "6160  [[word, 625642, base memory unit handled by a ...   \n",
       "6161  [[lunar mare, 180874, large, dark, basaltic pl...   \n",
       "6162  [[parent, 7566, father or mother, parent], [ho...   \n",
       "6163  [[horse, 726, domesticated (work) animal, hors...   \n",
       "6164  [[horse, 726, domesticated (work) animal, hors...   \n",
       "\n",
       "                                       relevant_wikient  \\\n",
       "0     [[immigration, 131288, movement of people into...   \n",
       "1     [[oscilloscope, 174320, type of electronic tes...   \n",
       "2     [[Agir, 43807777, French political party, Act]...   \n",
       "3     [[United States of America, 30, federal republ...   \n",
       "4     [[African Americans, 49085, racial or ethnic g...   \n",
       "...                                                 ...   \n",
       "6160  [[animal, 729, kingdom of multicellular eukary...   \n",
       "6161  [[lunar mare, 180874, large, dark, basaltic pl...   \n",
       "6162  [[parent, 7566, father or mother, parent], [ho...   \n",
       "6163  [[horse, 726, domesticated (work) animal, hors...   \n",
       "6164  [[horse, 726, domesticated (work) animal, hors...   \n",
       "\n",
       "                                             candidates  \\\n",
       "0     [(131288, 30), (131288, 30), (131288, 825838),...   \n",
       "1     [(174320, 103184), (174320, 7376362), (174320,...   \n",
       "2     [(43807777, 30678402), (43807777, 231002), (43...   \n",
       "3     [(30, 36784), (30, 15), (36784, 15), (36784, 3...   \n",
       "4     [(49085, 5), (49085, 4839635), (5, 4839635), (...   \n",
       "...                                                 ...   \n",
       "6160  [(729, 1413723), (729, 32789), (729, 19707), (...   \n",
       "6161                                                 []   \n",
       "6162  [(7566, 726), (7566, 12323), (7566, 726), (726...   \n",
       "6163  [(726, 80994), (726, 757833), (726, 506461), (...   \n",
       "6164                           [(726, 726), (726, 726)]   \n",
       "\n",
       "                                         paths_obtained  \\\n",
       "0     [[[[16741739, 793, 131288], [16741739, 27, 30]...   \n",
       "1                                                    []   \n",
       "2     [[[[258571, 17, 30], [258571, 31, 41710], [417...   \n",
       "3                                                    []   \n",
       "4                                                    []   \n",
       "...                                                 ...   \n",
       "6160                                                 []   \n",
       "6161                                                 []   \n",
       "6162                                                 []   \n",
       "6163  [[[[4655483, 1050, 506461], [4655483, 31, 726]...   \n",
       "6164                                                 []   \n",
       "\n",
       "                                  paths_obtained_labels  \\\n",
       "0     [[[('Lila Tretikov', 'significant event', 'imm...   \n",
       "1                                                    []   \n",
       "2     [[[('Erie people', 'country', 'United States o...   \n",
       "3                                                    []   \n",
       "4                                                    []   \n",
       "...                                                 ...   \n",
       "6160                                                 []   \n",
       "6161                                                 []   \n",
       "6162                                                 []   \n",
       "6163  [[[(\"A Bit O'Gold\", 'medical condition', 'geld...   \n",
       "6164                                                 []   \n",
       "\n",
       "                                       end_nodes_labels  \\\n",
       "0     [[immigration, United States of America], [Was...   \n",
       "1                                                    []   \n",
       "2     [[United States of America, nationality], [nat...   \n",
       "3                                                    []   \n",
       "4                                                    []   \n",
       "...                                                 ...   \n",
       "6160                                                 []   \n",
       "6161                                                 []   \n",
       "6162                                                 []   \n",
       "6163  [[gelding, horse], [horse, stallion], [adult, ...   \n",
       "6164                                                 []   \n",
       "\n",
       "                                         node_path_desc  \\\n",
       "0     [from entity *United States of America* to ent...   \n",
       "1                                                    NA   \n",
       "2     [from entity *United States of America* to ent...   \n",
       "3                                                    NA   \n",
       "4                                                    NA   \n",
       "...                                                 ...   \n",
       "6160                                                 NA   \n",
       "6161                                                 NA   \n",
       "6162                                                 NA   \n",
       "6163  [from entity *horse* to entity *gelding*: \\n R...   \n",
       "6164                                                 NA   \n",
       "\n",
       "                                         node_path_dict  \n",
       "0     [{'Relational Path 1': [('Lila Tretikov', 'sig...  \n",
       "1                                                    []  \n",
       "2     [{'Relational Path 1': [('Erie people', 'count...  \n",
       "3                                                    []  \n",
       "4                                                    []  \n",
       "...                                                 ...  \n",
       "6160                                                 []  \n",
       "6161                                                 []  \n",
       "6162                                                 []  \n",
       "6163  [{'Relational Path 1': [(\"A Bit O'Gold\", 'medi...  \n",
       "6164                                                 []  \n",
       "\n",
       "[6165 rows x 10 columns]"
      ]
     },
     "execution_count": 10,
     "metadata": {},
     "output_type": "execute_result"
    }
   ],
   "source": [
    "df"
   ]
  },
  {
   "cell_type": "code",
   "execution_count": 12,
   "metadata": {},
   "outputs": [
    {
     "data": {
      "text/plain": [
       "1"
      ]
     },
     "execution_count": 12,
     "metadata": {},
     "output_type": "execute_result"
    }
   ],
   "source": [
    "len(df.iloc[0]['node_path_desc'])"
   ]
  },
  {
   "cell_type": "code",
   "execution_count": 19,
   "metadata": {},
   "outputs": [
    {
     "name": "stdout",
     "output_type": "stream",
     "text": [
      "[\"from entity *United States of America* to entity *immigration*: \\n Relational Path 1: [('United States of America', 'diplomatic relation', 'Estonia'), ('Immigration to Estonia', 'country', 'Estonia'), ('Immigration to Estonia', 'instance of', 'immigration')]\\n Relational Path 2: [('Lila Tretikov', 'country of citizenship', 'United States of America'), ('Lila Tretikov', 'significant event', 'immigration')]\\n Relational Path 3: [('US immigration order strikes against biotech.', 'main subject', 'United States of America'), ('US immigration order strikes against biotech.', 'main subject', 'immigration')]\\n Relational Path 4: [('Carl Friedrich Zimmermann', 'country of citizenship', 'United States of America'), ('Carl Friedrich Zimmermann', 'significant event', 'immigration')]\\n Relational Path 5: [('William R. Blair', 'country of citizenship', 'United States of America'), ('William R. Blair', 'significant event', 'immigration')]\\n Relational Path 6: [('Conférence de presse du Président de la République, Emmanuel Macron avec la Chancelière allemande Angela Merkel à Meseberg', 'depicts', 'United States of America'), ('Conférence de presse du Président de la République, Emmanuel Macron avec la Chancelière allemande Angela Merkel à Meseberg', 'depicts', 'immigration')]\"]\n"
     ]
    }
   ],
   "source": [
    "print(df.iloc[2]['node_path_desc'])#[0])"
   ]
  },
  {
   "cell_type": "code",
   "execution_count": 13,
   "metadata": {},
   "outputs": [
    {
     "name": "stdout",
     "output_type": "stream",
     "text": [
      "{'Relational Path 1': [('Lila Tretikov', 'significant event', 'immigration'), ('Lila Tretikov', 'country of citizenship', 'United States of America')], 'Relational Path 2': [('Immigration to Estonia', 'instance of', 'immigration'), ('Immigration to Estonia', 'country', 'Estonia'), ('United States of America', 'diplomatic relation', 'Estonia')], 'Relational Path 3': [('US immigration order strikes against biotech.', 'main subject', 'immigration'), ('US immigration order strikes against biotech.', 'main subject', 'United States of America')], 'Relational Path 4': [('Carl Friedrich Zimmermann', 'significant event', 'immigration'), ('Carl Friedrich Zimmermann', 'country of citizenship', 'United States of America')], 'Relational Path 5': [('William R. Blair', 'significant event', 'immigration'), ('William R. Blair', 'country of citizenship', 'United States of America')], 'Relational Path 6': [('Conférence de presse du Président de la République, Emmanuel Macron avec la Chancelière allemande Angela Merkel à Meseberg', 'depicts', 'immigration'), ('Conférence de presse du Président de la République, Emmanuel Macron avec la Chancelière allemande Angela Merkel à Meseberg', 'depicts', 'United States of America')]}\n"
     ]
    }
   ],
   "source": [
    "print(df.iloc[0]['node_path_dict'][0])"
   ]
  },
  {
   "cell_type": "code",
   "execution_count": 14,
   "metadata": {},
   "outputs": [
    {
     "name": "stdout",
     "output_type": "stream",
     "text": [
      "6\n"
     ]
    }
   ],
   "source": [
    "print(len(df.iloc[0]['node_path_dict'][0]))"
   ]
  },
  {
   "cell_type": "code",
   "execution_count": 19,
   "metadata": {},
   "outputs": [],
   "source": [
    "df.to_pickle('outputs/wikiqa_test_answers_pathdesc_paths20.pkl')"
   ]
  },
  {
   "cell_type": "code",
   "execution_count": 20,
   "metadata": {},
   "outputs": [],
   "source": [
    "df.to_csv('outputs/wikiqa_test_answers_pathdesc_paths20.csv', index=False)"
   ]
  },
  {
   "cell_type": "code",
   "execution_count": 13,
   "metadata": {},
   "outputs": [],
   "source": [
    "df = df[df.node_path_desc != 'NA']\n",
    "df.to_pickle('outputs/wikiqa_test_answers_pathdesc_paths20_filteredEmptyPathswDic.pkl')"
   ]
  },
  {
   "cell_type": "code",
   "execution_count": 21,
   "metadata": {},
   "outputs": [],
   "source": [
    "df = df[df.node_path_desc != 'NA']\n",
    "df.to_csv('outputs/wikiqa_test_answers_pathdesc_paths20_filteredEmptyPathswDic.csv', index=False)"
   ]
  },
  {
   "cell_type": "code",
   "execution_count": 13,
   "metadata": {},
   "outputs": [
    {
     "data": {
      "text/plain": [
       "6165"
      ]
     },
     "execution_count": 13,
     "metadata": {},
     "output_type": "execute_result"
    }
   ],
   "source": [
    "len(paths_obtained_db)"
   ]
  },
  {
   "cell_type": "code",
   "execution_count": 14,
   "metadata": {},
   "outputs": [],
   "source": [
    "lengths_cnt = [len(x) for x in paths_obtained_db]"
   ]
  },
  {
   "cell_type": "code",
   "execution_count": 17,
   "metadata": {},
   "outputs": [
    {
     "data": {
      "text/plain": [
       "224"
      ]
     },
     "execution_count": 17,
     "metadata": {},
     "output_type": "execute_result"
    }
   ],
   "source": [
    "max(lengths_cnt)"
   ]
  },
  {
   "cell_type": "code",
   "execution_count": 30,
   "metadata": {},
   "outputs": [],
   "source": [
    "keys = list(paths_dict.keys())"
   ]
  },
  {
   "cell_type": "code",
   "execution_count": 31,
   "metadata": {},
   "outputs": [
    {
     "data": {
      "text/plain": [
       "[[[63099085, 921, 11424], [63099085, 31, 47461344], [47461344, 1889, 571]],\n",
       " [[4660858, 921, 11424], [4660858, 31, 47461344], [47461344, 1889, 571]],\n",
       " [[66317453, 136, 11424], [66317453, 136, 571]],\n",
       " [[63809943, 921, 11424], [63809943, 31, 47461344], [47461344, 1889, 571]]]"
      ]
     },
     "execution_count": 31,
     "metadata": {},
     "output_type": "execute_result"
    }
   ],
   "source": [
    "paths_dict[keys[0]]"
   ]
  },
  {
   "cell_type": "code",
   "execution_count": 6,
   "metadata": {},
   "outputs": [
    {
     "data": {
      "text/plain": [
       "('Den store film- og videoguiden', 'main subject', 'film')"
      ]
     },
     "execution_count": 6,
     "metadata": {},
     "output_type": "execute_result"
    }
   ],
   "source": [
    "getLabelsForTripletNums(paths_dict[keys[0]][0][0])"
   ]
  },
  {
   "cell_type": "code",
   "execution_count": 37,
   "metadata": {},
   "outputs": [],
   "source": [
    "def convert_structure(nested_list):\n",
    "    converted_list = []\n",
    "    for sublist in nested_list:\n",
    "        converted_sublist = []\n",
    "        for triplet in sublist:\n",
    "            # Directly convert each triplet in the sublist\n",
    "            tripletLabel = getLabelsForTripletNums(triplet)\n",
    "            if None in tripletLabel:\n",
    "                print(\"None in triplet\", triplet)\n",
    "                continue\n",
    "            converted_sublist.append(tripletLabel)\n",
    "        if len(converted_sublist) > 0:\n",
    "            converted_list.append(converted_sublist)\n",
    "    return converted_list\n",
    "\n"
   ]
  },
  {
   "cell_type": "code",
   "execution_count": 38,
   "metadata": {},
   "outputs": [
    {
     "name": "stdout",
     "output_type": "stream",
     "text": [
      "Error: HTTP Error 404: Not Found\n",
      "None in triplet [66317453, 136, 11424]\n",
      "Error: HTTP Error 404: Not Found\n",
      "None in triplet [66317453, 136, 571]\n"
     ]
    },
    {
     "data": {
      "text/plain": [
       "[[('Den store film- og videoguiden', 'main subject', 'film'),\n",
       "  ('Den store film- og videoguiden', 'instance of', 'written work'),\n",
       "  ('written work', 'different from', 'book')],\n",
       " [(\"A Year at the Movies: One Man's Filmgoing Odyssey\",\n",
       "   'main subject',\n",
       "   'film'),\n",
       "  (\"A Year at the Movies: One Man's Filmgoing Odyssey\",\n",
       "   'instance of',\n",
       "   'written work'),\n",
       "  ('written work', 'different from', 'book')],\n",
       " [('Film Max', 'main subject', 'film'),\n",
       "  ('Film Max', 'instance of', 'written work'),\n",
       "  ('written work', 'different from', 'book')]]"
      ]
     },
     "execution_count": 38,
     "metadata": {},
     "output_type": "execute_result"
    }
   ],
   "source": [
    "convert_structure(paths_dict[keys[0]])"
   ]
  },
  {
   "cell_type": "code",
   "execution_count": 19,
   "metadata": {},
   "outputs": [
    {
     "name": "stdout",
     "output_type": "stream",
     "text": [
      "Error: HTTP Error 404: Not Found\n",
      "None in triplet [66317453, 136, 11424]\n",
      "Error: HTTP Error 404: Not Found\n",
      "None in triplet [66317453, 136, 571]\n"
     ]
    },
    {
     "data": {
      "text/plain": [
       "[[('Den store film- og videoguiden', 'main subject', 'film'),\n",
       "  ('Den store film- og videoguiden', 'instance of', 'written work'),\n",
       "  ('written work', 'different from', 'book')],\n",
       " [(\"A Year at the Movies: One Man's Filmgoing Odyssey\",\n",
       "   'main subject',\n",
       "   'film'),\n",
       "  (\"A Year at the Movies: One Man's Filmgoing Odyssey\",\n",
       "   'instance of',\n",
       "   'written work'),\n",
       "  ('written work', 'different from', 'book')],\n",
       " [(None, 'genre', 'film'), (None, 'genre', 'book')],\n",
       " [('Film Max', 'main subject', 'book')],\n",
       " [('Film Max', 'main subject', 'film'),\n",
       "  ('Film Max', 'instance of', 'written work'),\n",
       "  ('written work', 'different from', 'book')]]"
      ]
     },
     "execution_count": 19,
     "metadata": {},
     "output_type": "execute_result"
    }
   ],
   "source": [
    "# Sample nested list\n",
    "nested_list = [\n",
    "    [[63099085, 921, 11424], [63099085, 31, 47461344], [47461344, 1889, 571]],\n",
    "    [[4660858, 921, 11424], [4660858, 31, 47461344], [47461344, 1889, 571]],\n",
    "    [[66317453, 136, 11424], [66317453, 136, 571]],\n",
    "    [[63809943, 921, 571]],\n",
    "    [[63809943, 921, 11424], [63809943, 31, 47461344], [47461344, 1889, 571]]\n",
    "]\n",
    "\n",
    "# Convert the sample nested list\n",
    "converted_nested_list = convert_structure(nested_list)\n",
    "converted_nested_list"
   ]
  },
  {
   "cell_type": "code",
   "execution_count": 12,
   "metadata": {},
   "outputs": [
    {
     "name": "stdout",
     "output_type": "stream",
     "text": [
      "Error: HTTP Error 404: Not Found\n",
      "Error: HTTP Error 404: Not Found\n"
     ]
    },
    {
     "data": {
      "text/plain": [
       "[[('Den store film- og videoguiden', 'main subject', 'film'),\n",
       "  ('Den store film- og videoguiden', 'instance of', 'written work'),\n",
       "  ('written work', 'different from', 'book')],\n",
       " [(\"A Year at the Movies: One Man's Filmgoing Odyssey\",\n",
       "   'main subject',\n",
       "   'film'),\n",
       "  (\"A Year at the Movies: One Man's Filmgoing Odyssey\",\n",
       "   'instance of',\n",
       "   'written work'),\n",
       "  ('written work', 'different from', 'book')],\n",
       " [(None, 'genre', 'film'), (None, 'genre', 'book')],\n",
       " [('Film Max', 'main subject', 'film'),\n",
       "  ('Film Max', 'instance of', 'written work'),\n",
       "  ('written work', 'different from', 'book')]]"
      ]
     },
     "execution_count": 12,
     "metadata": {},
     "output_type": "execute_result"
    }
   ],
   "source": [
    "# Sample nested list\n",
    "nested_list = [\n",
    "    [[63099085, 921, 11424], [63099085, 31, 47461344], [47461344, 1889, 571]],\n",
    "    [[4660858, 921, 11424], [4660858, 31, 47461344], [47461344, 1889, 571]],\n",
    "    [[66317453, 136, 11424], [66317453, 136, 571]],\n",
    "    [[63809943, 921, 11424], [63809943, 31, 47461344], [47461344, 1889, 571]]\n",
    "]\n",
    "\n",
    "# Convert the sample nested list\n",
    "converted_nested_list = convert_structure(nested_list)\n",
    "converted_nested_list"
   ]
  },
  {
   "cell_type": "code",
   "execution_count": 16,
   "metadata": {},
   "outputs": [
    {
     "data": {
      "text/plain": [
       "False"
      ]
     },
     "execution_count": 16,
     "metadata": {},
     "output_type": "execute_result"
    }
   ],
   "source": [
    "None in converted_nested_list[1][0]"
   ]
  },
  {
   "cell_type": "code",
   "execution_count": 26,
   "metadata": {},
   "outputs": [
    {
     "data": {
      "text/plain": [
       "(None, 'genre', 'film')"
      ]
     },
     "execution_count": 26,
     "metadata": {},
     "output_type": "execute_result"
    }
   ],
   "source": [
    "converted_nested_list[2][0]"
   ]
  },
  {
   "cell_type": "code",
   "execution_count": 17,
   "metadata": {},
   "outputs": [
    {
     "name": "stdout",
     "output_type": "stream",
     "text": [
      "[[('Brazilians', 'instance of', 'nationality'), ('Brazilians', 'country', 'United States of America')], [('nation', 'different from', 'nationality'), ('superpower', 'subclass of', 'nation'), ('United States of America', 'instance of', 'superpower')], [('ethnic group', 'different from', 'nationality'), ('Erie people', 'instance of', 'ethnic group'), ('Erie people', 'country', 'United States of America')], [('ethnic group', 'different from', 'nationality'), ('Sherwood Valley Rancheria of Pomo Indians of California', 'instance of', 'ethnic group'), ('Sherwood Valley Rancheria of Pomo Indians of California', 'country', 'United States of America')], [('ethnic group', 'different from', 'nationality'), ('Lac du Flambeau Band of Lake Superior Chippewa', 'instance of', 'ethnic group'), ('Lac du Flambeau Band of Lake Superior Chippewa', 'country', 'United States of America')], [('ethnic group', 'different from', 'nationality'), ('Santa Ysabel Reservation', 'instance of', 'ethnic group'), ('Santa Ysabel Reservation', 'country', 'United States of America')], [('ethnic group', 'different from', 'nationality'), ('Quartz Valley Indian Community', 'instance of', 'ethnic group'), ('Quartz Valley Indian Community', 'country', 'United States of America')], [('ethnic group', 'different from', 'nationality'), ('Fort Independence Indian Community of Paiute Indians', 'instance of', 'ethnic group'), ('Fort Independence Indian Community of Paiute Indians', 'country', 'United States of America')], [('ethnic group', 'different from', 'nationality'), ('Ewiiaapaayp Reservation', 'instance of', 'ethnic group'), ('Ewiiaapaayp Reservation', 'country', 'United States of America')], [('ethnic group', 'different from', 'nationality'), ('Californio', 'instance of', 'ethnic group'), ('Californio', 'country', 'United States of America')], [('ethnic group', 'different from', 'nationality'), ('Cahuilla people', 'instance of', 'ethnic group'), ('Cahuilla people', 'country', 'United States of America')], [('ethnic group', 'different from', 'nationality'), ('Colusa Indian Community', 'instance of', 'ethnic group'), ('Colusa Indian Community', 'country', 'United States of America')], [('ethnic group', 'different from', 'nationality'), ('Meherrin', 'instance of', 'ethnic group'), ('Meherrin', 'country', 'United States of America')], [('ethnic group', 'different from', 'nationality'), ('Czech South Dakotans', 'instance of', 'ethnic group'), ('Czech South Dakotans', 'country', 'United States of America')], [('ethnic group', 'different from', 'nationality'), ('Kickapoo Tribe in Kansas', 'instance of', 'ethnic group'), ('Kickapoo Tribe in Kansas', 'country', 'United States of America')], [('ethnic group', 'different from', 'nationality'), ('Kootenai Tribe of Idaho', 'instance of', 'ethnic group'), ('Kootenai Tribe of Idaho', 'country', 'United States of America')], [('ethnic group', 'different from', 'nationality'), ('Jamul Village', 'instance of', 'ethnic group'), ('Jamul Village', 'country', 'United States of America')], [('ethnic group', 'different from', 'nationality'), ('Eastern Shoshone', 'instance of', 'ethnic group'), ('Eastern Shoshone', 'country', 'United States of America')], [('ethnic group', 'different from', 'nationality'), ('Viejas Band of Kumeyaay Indians', 'instance of', 'ethnic group'), ('Viejas Band of Kumeyaay Indians', 'country', 'United States of America')], [('ethnic group', 'different from', 'nationality'), ('Mesa Grande Band of Diegueno Mission Indians', 'instance of', 'ethnic group'), ('Mesa Grande Band of Diegueno Mission Indians', 'country', 'United States of America')]]\n"
     ]
    }
   ],
   "source": [
    "PL = df.iloc[2]['paths_obtained_labels'][1]\n",
    "print(PL)"
   ]
  },
  {
   "cell_type": "code",
   "execution_count": 14,
   "metadata": {},
   "outputs": [],
   "source": [
    "formatted_paths, relational_paths_dict = format_relational_paths(PL)"
   ]
  },
  {
   "cell_type": "code",
   "execution_count": 15,
   "metadata": {},
   "outputs": [
    {
     "data": {
      "text/plain": [
       "\"Relational Path 1: [('Erie people', 'country', 'United States of America'), ('Erie people', 'instance of', 'ethnic group'), ('ethnic group', 'different from', 'nationality')]\\n Relational Path 2: [('Sherwood Valley Rancheria of Pomo Indians of California', 'country', 'United States of America'), ('Sherwood Valley Rancheria of Pomo Indians of California', 'instance of', 'ethnic group'), ('ethnic group', 'different from', 'nationality')]\\n Relational Path 3: [('Lac du Flambeau Band of Lake Superior Chippewa', 'country', 'United States of America'), ('Lac du Flambeau Band of Lake Superior Chippewa', 'instance of', 'ethnic group'), ('ethnic group', 'different from', 'nationality')]\\n Relational Path 4: [('Santa Ysabel Reservation', 'country', 'United States of America'), ('Santa Ysabel Reservation', 'instance of', 'ethnic group'), ('ethnic group', 'different from', 'nationality')]\\n Relational Path 5: [('Quartz Valley Indian Community', 'country', 'United States of America'), ('Quartz Valley Indian Community', 'instance of', 'ethnic group'), ('ethnic group', 'different from', 'nationality')]\\n Relational Path 6: [('Fort Independence Indian Community of Paiute Indians', 'country', 'United States of America'), ('Fort Independence Indian Community of Paiute Indians', 'instance of', 'ethnic group'), ('ethnic group', 'different from', 'nationality')]\\n Relational Path 7: [('Brazilians', 'country', 'United States of America'), ('Brazilians', 'instance of', 'nationality')]\\n Relational Path 8: [('Ewiiaapaayp Reservation', 'country', 'United States of America'), ('Ewiiaapaayp Reservation', 'instance of', 'ethnic group'), ('ethnic group', 'different from', 'nationality')]\\n Relational Path 9: [('Californio', 'country', 'United States of America'), ('Californio', 'instance of', 'ethnic group'), ('ethnic group', 'different from', 'nationality')]\\n Relational Path 10: [('Cahuilla people', 'country', 'United States of America'), ('Cahuilla people', 'instance of', 'ethnic group'), ('ethnic group', 'different from', 'nationality')]\\n Relational Path 11: [('Colusa Indian Community', 'country', 'United States of America'), ('Colusa Indian Community', 'instance of', 'ethnic group'), ('ethnic group', 'different from', 'nationality')]\\n Relational Path 12: [('Meherrin', 'country', 'United States of America'), ('Meherrin', 'instance of', 'ethnic group'), ('ethnic group', 'different from', 'nationality')]\\n Relational Path 13: [('Czech South Dakotans', 'country', 'United States of America'), ('Czech South Dakotans', 'instance of', 'ethnic group'), ('ethnic group', 'different from', 'nationality')]\\n Relational Path 14: [('Kickapoo Tribe in Kansas', 'country', 'United States of America'), ('Kickapoo Tribe in Kansas', 'instance of', 'ethnic group'), ('ethnic group', 'different from', 'nationality')]\\n Relational Path 15: [('Kootenai Tribe of Idaho', 'country', 'United States of America'), ('Kootenai Tribe of Idaho', 'instance of', 'ethnic group'), ('ethnic group', 'different from', 'nationality')]\\n Relational Path 16: [('Jamul Village', 'country', 'United States of America'), ('Jamul Village', 'instance of', 'ethnic group'), ('ethnic group', 'different from', 'nationality')]\\n Relational Path 17: [('Eastern Shoshone', 'country', 'United States of America'), ('Eastern Shoshone', 'instance of', 'ethnic group'), ('ethnic group', 'different from', 'nationality')]\\n Relational Path 18: [('Viejas Band of Kumeyaay Indians', 'country', 'United States of America'), ('Viejas Band of Kumeyaay Indians', 'instance of', 'ethnic group'), ('ethnic group', 'different from', 'nationality')]\\n Relational Path 19: [('Mesa Grande Band of Diegueno Mission Indians', 'country', 'United States of America'), ('Mesa Grande Band of Diegueno Mission Indians', 'instance of', 'ethnic group'), ('ethnic group', 'different from', 'nationality')]\\n Relational Path 20: [('Muckleshoot people', 'country', 'United States of America'), ('Muckleshoot people', 'instance of', 'ethnic group'), ('ethnic group', 'different from', 'nationality')]\""
      ]
     },
     "execution_count": 15,
     "metadata": {},
     "output_type": "execute_result"
    }
   ],
   "source": [
    "formatted_paths"
   ]
  },
  {
   "cell_type": "code",
   "execution_count": 16,
   "metadata": {},
   "outputs": [
    {
     "data": {
      "text/plain": [
       "{'Relational Path 1': [('Erie people', 'country', 'United States of America'),\n",
       "  ('Erie people', 'instance of', 'ethnic group'),\n",
       "  ('ethnic group', 'different from', 'nationality')],\n",
       " 'Relational Path 2': [('Sherwood Valley Rancheria of Pomo Indians of California',\n",
       "   'country',\n",
       "   'United States of America'),\n",
       "  ('Sherwood Valley Rancheria of Pomo Indians of California',\n",
       "   'instance of',\n",
       "   'ethnic group'),\n",
       "  ('ethnic group', 'different from', 'nationality')],\n",
       " 'Relational Path 3': [('Lac du Flambeau Band of Lake Superior Chippewa',\n",
       "   'country',\n",
       "   'United States of America'),\n",
       "  ('Lac du Flambeau Band of Lake Superior Chippewa',\n",
       "   'instance of',\n",
       "   'ethnic group'),\n",
       "  ('ethnic group', 'different from', 'nationality')],\n",
       " 'Relational Path 4': [('Santa Ysabel Reservation',\n",
       "   'country',\n",
       "   'United States of America'),\n",
       "  ('Santa Ysabel Reservation', 'instance of', 'ethnic group'),\n",
       "  ('ethnic group', 'different from', 'nationality')],\n",
       " 'Relational Path 5': [('Quartz Valley Indian Community',\n",
       "   'country',\n",
       "   'United States of America'),\n",
       "  ('Quartz Valley Indian Community', 'instance of', 'ethnic group'),\n",
       "  ('ethnic group', 'different from', 'nationality')],\n",
       " 'Relational Path 6': [('Fort Independence Indian Community of Paiute Indians',\n",
       "   'country',\n",
       "   'United States of America'),\n",
       "  ('Fort Independence Indian Community of Paiute Indians',\n",
       "   'instance of',\n",
       "   'ethnic group'),\n",
       "  ('ethnic group', 'different from', 'nationality')],\n",
       " 'Relational Path 7': [('Brazilians', 'country', 'United States of America'),\n",
       "  ('Brazilians', 'instance of', 'nationality')],\n",
       " 'Relational Path 8': [('Ewiiaapaayp Reservation',\n",
       "   'country',\n",
       "   'United States of America'),\n",
       "  ('Ewiiaapaayp Reservation', 'instance of', 'ethnic group'),\n",
       "  ('ethnic group', 'different from', 'nationality')],\n",
       " 'Relational Path 9': [('Californio', 'country', 'United States of America'),\n",
       "  ('Californio', 'instance of', 'ethnic group'),\n",
       "  ('ethnic group', 'different from', 'nationality')],\n",
       " 'Relational Path 10': [('Cahuilla people',\n",
       "   'country',\n",
       "   'United States of America'),\n",
       "  ('Cahuilla people', 'instance of', 'ethnic group'),\n",
       "  ('ethnic group', 'different from', 'nationality')],\n",
       " 'Relational Path 11': [('Colusa Indian Community',\n",
       "   'country',\n",
       "   'United States of America'),\n",
       "  ('Colusa Indian Community', 'instance of', 'ethnic group'),\n",
       "  ('ethnic group', 'different from', 'nationality')],\n",
       " 'Relational Path 12': [('Meherrin', 'country', 'United States of America'),\n",
       "  ('Meherrin', 'instance of', 'ethnic group'),\n",
       "  ('ethnic group', 'different from', 'nationality')],\n",
       " 'Relational Path 13': [('Czech South Dakotans',\n",
       "   'country',\n",
       "   'United States of America'),\n",
       "  ('Czech South Dakotans', 'instance of', 'ethnic group'),\n",
       "  ('ethnic group', 'different from', 'nationality')],\n",
       " 'Relational Path 14': [('Kickapoo Tribe in Kansas',\n",
       "   'country',\n",
       "   'United States of America'),\n",
       "  ('Kickapoo Tribe in Kansas', 'instance of', 'ethnic group'),\n",
       "  ('ethnic group', 'different from', 'nationality')],\n",
       " 'Relational Path 15': [('Kootenai Tribe of Idaho',\n",
       "   'country',\n",
       "   'United States of America'),\n",
       "  ('Kootenai Tribe of Idaho', 'instance of', 'ethnic group'),\n",
       "  ('ethnic group', 'different from', 'nationality')],\n",
       " 'Relational Path 16': [('Jamul Village',\n",
       "   'country',\n",
       "   'United States of America'),\n",
       "  ('Jamul Village', 'instance of', 'ethnic group'),\n",
       "  ('ethnic group', 'different from', 'nationality')],\n",
       " 'Relational Path 17': [('Eastern Shoshone',\n",
       "   'country',\n",
       "   'United States of America'),\n",
       "  ('Eastern Shoshone', 'instance of', 'ethnic group'),\n",
       "  ('ethnic group', 'different from', 'nationality')],\n",
       " 'Relational Path 18': [('Viejas Band of Kumeyaay Indians',\n",
       "   'country',\n",
       "   'United States of America'),\n",
       "  ('Viejas Band of Kumeyaay Indians', 'instance of', 'ethnic group'),\n",
       "  ('ethnic group', 'different from', 'nationality')],\n",
       " 'Relational Path 19': [('Mesa Grande Band of Diegueno Mission Indians',\n",
       "   'country',\n",
       "   'United States of America'),\n",
       "  ('Mesa Grande Band of Diegueno Mission Indians',\n",
       "   'instance of',\n",
       "   'ethnic group'),\n",
       "  ('ethnic group', 'different from', 'nationality')],\n",
       " 'Relational Path 20': [('Muckleshoot people',\n",
       "   'country',\n",
       "   'United States of America'),\n",
       "  ('Muckleshoot people', 'instance of', 'ethnic group'),\n",
       "  ('ethnic group', 'different from', 'nationality')]}"
      ]
     },
     "execution_count": 16,
     "metadata": {},
     "output_type": "execute_result"
    }
   ],
   "source": [
    "relational_paths_dict"
   ]
  },
  {
   "cell_type": "code",
   "execution_count": 15,
   "metadata": {},
   "outputs": [],
   "source": [
    "dfS = df[:5]"
   ]
  },
  {
   "cell_type": "code",
   "execution_count": 16,
   "metadata": {},
   "outputs": [],
   "source": [
    "dfS.to_csv('outputs/wikiqa_test_answers_pathdesc_paths20_sampleSMALL.csv', index=False)"
   ]
  },
  {
   "cell_type": "code",
   "execution_count": 12,
   "metadata": {},
   "outputs": [],
   "source": [
    "keys = list(paths_dict.keys())"
   ]
  },
  {
   "cell_type": "code",
   "execution_count": 13,
   "metadata": {},
   "outputs": [
    {
     "name": "stdout",
     "output_type": "stream",
     "text": [
      "11424_571\n",
      "[[[63099085, 921, 11424], [63099085, 31, 47461344], [47461344, 1889, 571]], [[4660858, 921, 11424], [4660858, 31, 47461344], [47461344, 1889, 571]], [[66317453, 136, 11424], [66317453, 136, 571]], [[63809943, 921, 11424], [63809943, 31, 47461344], [47461344, 1889, 571]]]\n"
     ]
    }
   ],
   "source": [
    "print(keys[0])\n",
    "print(paths_dict[keys[0]])"
   ]
  },
  {
   "cell_type": "code",
   "execution_count": 14,
   "metadata": {},
   "outputs": [
    {
     "data": {
      "text/plain": [
       "18434"
      ]
     },
     "execution_count": 14,
     "metadata": {},
     "output_type": "execute_result"
    }
   ],
   "source": [
    "len(paths_dict)"
   ]
  },
  {
   "cell_type": "code",
   "execution_count": 23,
   "metadata": {},
   "outputs": [
    {
     "data": {
      "text/plain": [
       "3"
      ]
     },
     "execution_count": 23,
     "metadata": {},
     "output_type": "execute_result"
    }
   ],
   "source": [
    "len(paths_dict[keys[0]][0])"
   ]
  },
  {
   "cell_type": "code",
   "execution_count": 24,
   "metadata": {},
   "outputs": [
    {
     "data": {
      "text/plain": [
       "[[[63099085, 921, 11424], [63099085, 31, 47461344], [47461344, 1889, 571]],\n",
       " [[4660858, 921, 11424], [4660858, 31, 47461344], [47461344, 1889, 571]],\n",
       " [[66317453, 136, 11424], [66317453, 136, 571]],\n",
       " [[63809943, 921, 11424], [63809943, 31, 47461344], [47461344, 1889, 571]]]"
      ]
     },
     "execution_count": 24,
     "metadata": {},
     "output_type": "execute_result"
    }
   ],
   "source": [
    "paths_dict[keys[0]]"
   ]
  },
  {
   "cell_type": "code",
   "execution_count": 25,
   "metadata": {},
   "outputs": [
    {
     "data": {
      "text/plain": [
       "[[63099085, 921, 11424], [63099085, 31, 47461344], [47461344, 1889, 571]]"
      ]
     },
     "execution_count": 25,
     "metadata": {},
     "output_type": "execute_result"
    }
   ],
   "source": [
    "paths_dict[keys[0]][0]"
   ]
  },
  {
   "cell_type": "code",
   "execution_count": null,
   "metadata": {},
   "outputs": [],
   "source": []
  }
 ],
 "metadata": {
  "kernelspec": {
   "display_name": "azureml_py38_PT_TF",
   "language": "python",
   "name": "python3"
  },
  "language_info": {
   "codemirror_mode": {
    "name": "ipython",
    "version": 3
   },
   "file_extension": ".py",
   "mimetype": "text/x-python",
   "name": "python",
   "nbconvert_exporter": "python",
   "pygments_lexer": "ipython3",
   "version": "3.8.5"
  }
 },
 "nbformat": 4,
 "nbformat_minor": 2
}
