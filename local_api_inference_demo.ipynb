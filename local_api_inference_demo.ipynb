{
 "cells": [
  {
   "cell_type": "code",
   "execution_count": 1,
   "metadata": {},
   "outputs": [],
   "source": [
    "import openai\n",
    "import datetime\n",
    "from utils.textprocessing_helpers import preprocess"
   ]
  },
  {
   "cell_type": "code",
   "execution_count": null,
   "metadata": {},
   "outputs": [],
   "source": [
    "openai.api_base = \"http://localhost:8000/v1\"\n",
    "openai.api_key = 'EMPTY'\n",
    "model = 'train_solar'\n",
    "# model = \"train_phi2\"\n",
    "# model = 'train_llama2_13b_chat'\n",
    "# model = 'train_mistral7b'\n",
    "# model = 'train_zephyr7b-beta'"
   ]
  },
  {
   "cell_type": "code",
   "execution_count": null,
   "metadata": {},
   "outputs": [],
   "source": [
    "# Run this command in a terminal\n",
    "\n",
    "# CUDA_VISIBLE_DEVICES=0,1 python src/api_demo.py \\\n",
    "#     --model_name_or_path upstage/SOLAR-10.7B-Instruct-v1.0 \\\n",
    "#     --adapter_name_or_path saves/SOLAR-10.7B-Chat/lora/train_solar  \\\n",
    "#     --template solar \\\n",
    "#     --finetuning_type lora &"
   ]
  },
  {
   "cell_type": "code",
   "execution_count": null,
   "metadata": {},
   "outputs": [],
   "source": [
    "# CUDA_VISIBLE_DEVICES=0,1 python src/api_demo.py \\\n",
    "#     --model_name_or_path mistralai/Mistral-7B-Instruct-v0.1 \\\n",
    "#     --adapter_name_or_path saves/Mistral-7B-Chat/lora/train_mistral7b \\\n",
    "#     --template mistral \\\n",
    "#     --finetuning_type lora &\n"
   ]
  },
  {
   "cell_type": "code",
   "execution_count": null,
   "metadata": {},
   "outputs": [],
   "source": [
    "# CUDA_VISIBLE_DEVICES=0,1 python src/api_demo.py \\\n",
    "#     --model_name_or_path meta-llama/Llama-2-13b-chat-hf \\\n",
    "#     --adapter_name_or_path saves/LLaMA2-13B-Chat/lora/train_llama2_13b_chat \\\n",
    "#     --template llama2 \\\n",
    "#     --finetuning_type lora &\n"
   ]
  },
  {
   "cell_type": "code",
   "execution_count": null,
   "metadata": {},
   "outputs": [],
   "source": [
    "# CUDA_VISIBLE_DEVICES=0,1 python src/api_demo.py \\\n",
    "#     --model_name_or_path HuggingFaceH4/zephyr-7b-beta \\\n",
    "#     --adapter_name_or_path saves/Zephyr-7B-Beta-Chat/lora/train_zephyr7b-beta \\\n",
    "#     --template zephyr \\\n",
    "#     --finetuning_type lora &\n"
   ]
  },
  {
   "cell_type": "code",
   "execution_count": null,
   "metadata": {},
   "outputs": [],
   "source": [
    "# CUDA_VISIBLE_DEVICES=0,1 python src/api_demo.py \\\n",
    "#     --model_name_or_path upstage/SOLAR-10.7B-Instruct-v1.0 \\\n",
    "#     --adapter_name_or_path saves/SOLAR-10.7B-Chat/lora/train_solar  \\\n",
    "#     --template solar \\\n",
    "#     --finetuning_type lora &"
   ]
  },
  {
   "cell_type": "code",
   "execution_count": 4,
   "metadata": {},
   "outputs": [],
   "source": [
    "def log_message(message, log_file=f'logs/test_{model}_log.txt'):\n",
    "    timestamp = datetime.datetime.now().strftime(\"%Y-%m-%d %H:%M:%S\")\n",
    "    formatted_message = f\"[{timestamp}] {message}\\n\"\n",
    "    \n",
    "    with open(log_file, 'a') as file:\n",
    "        file.write(formatted_message)\n",
    "    return"
   ]
  },
  {
   "cell_type": "code",
   "execution_count": 3,
   "metadata": {},
   "outputs": [],
   "source": [
    "def query_model(prompt):\n",
    "    generated_text = ''    \n",
    "    response = openai.ChatCompletion.create(\n",
    "        model=\"main\",\n",
    "        messages=[\n",
    "            {\"role\": \"user\", \"content\": f'{prompt}'}\n",
    "        ],\n",
    "        temperature=0.2,\n",
    "        max_new_tokens=1024,\n",
    "        stream=True\n",
    "    )\n",
    "    for chunk in response:\n",
    "        if hasattr(chunk.choices[0].delta, \"content\"):\n",
    "            # print(chunk.choices[0].delta.content, end=\"\", flush=True)\n",
    "            generated_text = generated_text + chunk.choices[0].delta.content\n",
    "    return generated_text"
   ]
  },
  {
   "cell_type": "code",
   "execution_count": 21,
   "metadata": {},
   "outputs": [],
   "source": [
    "def query_model_no_stream(prompt):\n",
    "        \n",
    "    response = openai.ChatCompletion.create(\n",
    "        model=\"main\",\n",
    "        messages=[\n",
    "            {\"role\": \"user\", \"content\": f'{prompt}'}\n",
    "        ],\n",
    "        temperature=0.2,\n",
    "        max_new_tokens=1024\n",
    "    )\n",
    "    generated_text = response['choices'][0]['message']['content']\n",
    "    return generated_text"
   ]
  },
  {
   "cell_type": "code",
   "execution_count": 6,
   "metadata": {},
   "outputs": [],
   "source": [
    "prompt_instruction = '''Analyze text against provided triplets, classifying claims as \"Attributable\", \"Contradictory\", or \"Exploratory\".\n",
    "Justify your classification using the following structure:\n",
    "- \"text_span\": Text under evaluation.\n",
    "- \"prediction\": Category of the text (Attributable/Contradictory/Exploratory).\n",
    "- \"triplets\": Relevant triplets (if any, else \"NA\").\n",
    "- \"rationale\": Reason for classification.\n",
    "\n",
    "For multiple claims, number each component (e.g., \"text_span1\", \"prediction1\"). Use \"NA\" for inapplicable keys.\n",
    "\n",
    "Example:\n",
    "\"text_span1\": \"Specific claim\",\n",
    "\"prediction1\": \"Attributable/Contradictory/Exploratory\",\n",
    "\"triplets1\": \"Relevant triplets\",\n",
    "\"rationale1\": \"Prediction justification\",\n",
    "...\n",
    "\n",
    "Input for analysis:\n",
    "'''"
   ]
  },
  {
   "cell_type": "code",
   "execution_count": null,
   "metadata": {},
   "outputs": [],
   "source": [
    "def gen_prompt(text, triplets):\n",
    "    text_req = f'''\n",
    "    - Text: {text}\n",
    "    - Triplets: {triplets}\n",
    "    '''\n",
    "    prompt = prompt_instruction+text_req\n",
    "    return prompt"
   ]
  },
  {
   "cell_type": "code",
   "execution_count": 13,
   "metadata": {},
   "outputs": [],
   "source": [
    "input_text = 'Barack Obama was educated at Harvard, and he signed the Affordable Care Act.'"
   ]
  },
  {
   "cell_type": "code",
   "execution_count": null,
   "metadata": {},
   "outputs": [],
   "source": [
    "paths, wikients = preprocess(input_text)\n",
    "prompt = gen_prompt(input_text, paths)\n",
    "response = query_model_no_stream(prompt)\n",
    "print(response)"
   ]
  },
  {
   "cell_type": "code",
   "execution_count": null,
   "metadata": {},
   "outputs": [],
   "source": []
  },
  {
   "cell_type": "code",
   "execution_count": null,
   "metadata": {},
   "outputs": [],
   "source": []
  }
 ],
 "metadata": {
  "kernelspec": {
   "display_name": "azureml_py38_PT_TF",
   "language": "python",
   "name": "python3"
  },
  "language_info": {
   "codemirror_mode": {
    "name": "ipython",
    "version": 3
   },
   "file_extension": ".py",
   "mimetype": "text/x-python",
   "name": "python",
   "nbconvert_exporter": "python",
   "pygments_lexer": "ipython3",
   "version": "3.8.5"
  }
 },
 "nbformat": 4,
 "nbformat_minor": 2
}
